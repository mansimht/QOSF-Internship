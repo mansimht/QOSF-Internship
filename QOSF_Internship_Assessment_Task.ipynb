{
  "nbformat": 4,
  "nbformat_minor": 0,
  "metadata": {
    "colab": {
      "name": "QOSF Internship Assessment  Task.ipynb",
      "provenance": [],
      "include_colab_link": true
    },
    "kernelspec": {
      "name": "python3",
      "display_name": "Python 3"
    }
  },
  "cells": [
    {
      "cell_type": "markdown",
      "metadata": {
        "id": "view-in-github",
        "colab_type": "text"
      },
      "source": [
        "<a href=\"https://colab.research.google.com/github/mansimht/QOSF-Internship/blob/main/QOSF_Internship_Assessment_Task.ipynb\" target=\"_parent\"><img src=\"https://colab.research.google.com/assets/colab-badge.svg\" alt=\"Open In Colab\"/></a>"
      ]
    },
    {
      "cell_type": "markdown",
      "metadata": {
        "id": "xsEli_lC9jS3"
      },
      "source": [
        "### Installation of Packages"
      ]
    },
    {
      "cell_type": "code",
      "metadata": {
        "colab": {
          "base_uri": "https://localhost:8080/"
        },
        "id": "h6z3A0uf1pl0",
        "outputId": "ca658bb8-5bf1-422c-ca80-9f54e6c8972c"
      },
      "source": [
        "!pip install qiskit"
      ],
      "execution_count": 1,
      "outputs": [
        {
          "output_type": "stream",
          "text": [
            "Collecting qiskit\n",
            "  Downloading https://files.pythonhosted.org/packages/96/6b/1c1a5ed225ac2e42ebc07df49e9c1ce0d3221c6d0744e7d6d5983ff0e69e/qiskit-0.23.6.tar.gz\n",
            "Collecting qiskit-terra==0.16.4\n",
            "\u001b[?25l  Downloading https://files.pythonhosted.org/packages/56/e2/c256863ec8fab2162bf17d7e9c8564186a4636b4f24b5ea5d38a014b809e/qiskit_terra-0.16.4-cp36-cp36m-manylinux2010_x86_64.whl (8.5MB)\n",
            "\u001b[K     |████████████████████████████████| 8.5MB 3.7MB/s \n",
            "\u001b[?25hCollecting qiskit-aer==0.7.5\n",
            "\u001b[?25l  Downloading https://files.pythonhosted.org/packages/0e/4e/cf4493e8d8a7785b945b483429aa4b7960e30576eb8f3b24444991781460/qiskit_aer-0.7.5-cp36-cp36m-manylinux2010_x86_64.whl (17.6MB)\n",
            "\u001b[K     |████████████████████████████████| 17.6MB 257kB/s \n",
            "\u001b[?25hCollecting qiskit-ibmq-provider==0.11.1\n",
            "\u001b[?25l  Downloading https://files.pythonhosted.org/packages/32/b9/f99bec4fdc4dec234d8a85a8da378750441a203c614be35353f5e8738316/qiskit_ibmq_provider-0.11.1-py3-none-any.whl (195kB)\n",
            "\u001b[K     |████████████████████████████████| 204kB 43.4MB/s \n",
            "\u001b[?25hCollecting qiskit-ignis==0.5.2\n",
            "\u001b[?25l  Downloading https://files.pythonhosted.org/packages/b2/1d/d5df8cf48cf20a26deb6e0535f020cd2ad625cb27457abb0ab39c2104e38/qiskit_ignis-0.5.2-py3-none-any.whl (203kB)\n",
            "\u001b[K     |████████████████████████████████| 204kB 14.4MB/s \n",
            "\u001b[?25hCollecting qiskit-aqua==0.8.2\n",
            "\u001b[?25l  Downloading https://files.pythonhosted.org/packages/0e/82/528741676960a7fd1c75151639601826118f2729ad53034fa3b39290c056/qiskit_aqua-0.8.2-py3-none-any.whl (2.1MB)\n",
            "\u001b[K     |████████████████████████████████| 2.1MB 49.1MB/s \n",
            "\u001b[?25hRequirement already satisfied: jsonschema>=2.6 in /usr/local/lib/python3.6/dist-packages (from qiskit-terra==0.16.4->qiskit) (2.6.0)\n",
            "Requirement already satisfied: networkx>=2.2 in /usr/local/lib/python3.6/dist-packages (from qiskit-terra==0.16.4->qiskit) (2.5)\n",
            "Collecting python-constraint>=1.4\n",
            "  Downloading https://files.pythonhosted.org/packages/37/8b/5f1bc2734ca611943e1d6733ee244238679f6410a10cd45ede55a61a8402/python-constraint-1.4.0.tar.bz2\n",
            "Requirement already satisfied: scipy>=1.4 in /usr/local/lib/python3.6/dist-packages (from qiskit-terra==0.16.4->qiskit) (1.4.1)\n",
            "Collecting contextvars>=2.4; python_version < \"3.7\"\n",
            "  Downloading https://files.pythonhosted.org/packages/83/96/55b82d9f13763be9d672622e1b8106c85acb83edd7cc2fa5bc67cd9877e9/contextvars-2.4.tar.gz\n",
            "Requirement already satisfied: python-dateutil>=2.8.0 in /usr/local/lib/python3.6/dist-packages (from qiskit-terra==0.16.4->qiskit) (2.8.1)\n",
            "Requirement already satisfied: dill>=0.3 in /usr/local/lib/python3.6/dist-packages (from qiskit-terra==0.16.4->qiskit) (0.3.3)\n",
            "Requirement already satisfied: psutil>=5 in /usr/local/lib/python3.6/dist-packages (from qiskit-terra==0.16.4->qiskit) (5.4.8)\n",
            "Collecting fastjsonschema>=2.10\n",
            "  Downloading https://files.pythonhosted.org/packages/89/1c/8be51fa42aadc1c1611a52b866e1a5a1032a504f24789cf140b4e6d7c940/fastjsonschema-2.15.0-py3-none-any.whl\n",
            "Collecting retworkx>=0.5.0\n",
            "\u001b[?25l  Downloading https://files.pythonhosted.org/packages/b7/21/5d4498cedb23927a31173176975e2162e0d6a2b80846ef254dd5500e10da/retworkx-0.7.2-cp36-cp36m-manylinux2010_x86_64.whl (1.3MB)\n",
            "\u001b[K     |████████████████████████████████| 1.3MB 48.0MB/s \n",
            "\u001b[?25hCollecting ply>=3.10\n",
            "\u001b[?25l  Downloading https://files.pythonhosted.org/packages/a3/58/35da89ee790598a0700ea49b2a66594140f44dec458c07e8e3d4979137fc/ply-3.11-py2.py3-none-any.whl (49kB)\n",
            "\u001b[K     |████████████████████████████████| 51kB 6.7MB/s \n",
            "\u001b[?25hRequirement already satisfied: numpy>=1.17 in /usr/local/lib/python3.6/dist-packages (from qiskit-terra==0.16.4->qiskit) (1.19.5)\n",
            "Collecting sympy>=1.3\n",
            "\u001b[?25l  Downloading https://files.pythonhosted.org/packages/ff/69/b16fc81b939d3efdd0b552f2e3e54f7fa1423d0c320cced2e69e675dde26/sympy-1.7.1-py3-none-any.whl (5.9MB)\n",
            "\u001b[K     |████████████████████████████████| 5.9MB 36.2MB/s \n",
            "\u001b[?25hRequirement already satisfied: cython>=0.27.1 in /usr/local/lib/python3.6/dist-packages (from qiskit-aer==0.7.5->qiskit) (0.29.21)\n",
            "Collecting pybind11>=2.4\n",
            "\u001b[?25l  Downloading https://files.pythonhosted.org/packages/8d/43/7339dbabbc2793718d59703aace4166f53c29ee1c202f6ff5bf8a26c4d91/pybind11-2.6.2-py2.py3-none-any.whl (191kB)\n",
            "\u001b[K     |████████████████████████████████| 194kB 49.6MB/s \n",
            "\u001b[?25hRequirement already satisfied: urllib3>=1.21.1 in /usr/local/lib/python3.6/dist-packages (from qiskit-ibmq-provider==0.11.1->qiskit) (1.24.3)\n",
            "Collecting requests-ntlm>=1.1.0\n",
            "  Downloading https://files.pythonhosted.org/packages/03/4b/8b9a1afde8072c4d5710d9fa91433d504325821b038e00237dc8d6d833dc/requests_ntlm-1.1.0-py2.py3-none-any.whl\n",
            "Collecting websockets>=8\n",
            "\u001b[?25l  Downloading https://files.pythonhosted.org/packages/bb/d9/856af84843912e2853b1b6e898ac8b802989fcf9ecf8e8445a1da263bf3b/websockets-8.1-cp36-cp36m-manylinux2010_x86_64.whl (78kB)\n",
            "\u001b[K     |████████████████████████████████| 81kB 9.1MB/s \n",
            "\u001b[?25hRequirement already satisfied: nest-asyncio!=1.1.0,>=1.0.0 in /usr/local/lib/python3.6/dist-packages (from qiskit-ibmq-provider==0.11.1->qiskit) (1.5.1)\n",
            "Requirement already satisfied: requests>=2.19 in /usr/local/lib/python3.6/dist-packages (from qiskit-ibmq-provider==0.11.1->qiskit) (2.23.0)\n",
            "Requirement already satisfied: setuptools>=40.1.0 in /usr/local/lib/python3.6/dist-packages (from qiskit-ignis==0.5.2->qiskit) (53.0.0)\n",
            "Requirement already satisfied: scikit-learn>=0.17 in /usr/local/lib/python3.6/dist-packages (from qiskit-ignis==0.5.2->qiskit) (0.22.2.post1)\n",
            "Collecting docplex==2.15.194\n",
            "\u001b[?25l  Downloading https://files.pythonhosted.org/packages/9b/76/ebf5b75a25c4357c9a4758cae7fea778dd7f282b83c2f22e150dc7e3c852/docplex-2.15.194.tar.gz (582kB)\n",
            "\u001b[K     |████████████████████████████████| 583kB 36.0MB/s \n",
            "\u001b[?25hRequirement already satisfied: dataclasses; python_version < \"3.7\" in /usr/local/lib/python3.6/dist-packages (from qiskit-aqua==0.8.2->qiskit) (0.8)\n",
            "Collecting dlx\n",
            "  Downloading https://files.pythonhosted.org/packages/54/c0/b8fb5bb727e983b6f5251433ef941b48f38c65bb0bd6ec509e9185bcd406/dlx-1.0.4.tar.gz\n",
            "Collecting quandl\n",
            "  Downloading https://files.pythonhosted.org/packages/c2/58/9f0e69d836045e3865d263e9ed49f42b23a58526fdabb30f74c430baee3f/Quandl-3.6.0-py2.py3-none-any.whl\n",
            "Requirement already satisfied: fastdtw in /usr/local/lib/python3.6/dist-packages (from qiskit-aqua==0.8.2->qiskit) (0.3.4)\n",
            "Requirement already satisfied: h5py in /usr/local/lib/python3.6/dist-packages (from qiskit-aqua==0.8.2->qiskit) (2.10.0)\n",
            "Collecting yfinance\n",
            "  Downloading https://files.pythonhosted.org/packages/7a/e8/b9d7104d3a4bf39924799067592d9e59119fcfc900a425a12e80a3123ec8/yfinance-0.1.55.tar.gz\n",
            "Requirement already satisfied: pandas in /usr/local/lib/python3.6/dist-packages (from qiskit-aqua==0.8.2->qiskit) (1.1.5)\n",
            "Requirement already satisfied: decorator>=4.3.0 in /usr/local/lib/python3.6/dist-packages (from networkx>=2.2->qiskit-terra==0.16.4->qiskit) (4.4.2)\n",
            "Collecting immutables>=0.9\n",
            "\u001b[?25l  Downloading https://files.pythonhosted.org/packages/4a/52/e64a14a99c509cbdfe0405e9f076aef0331cb9548a3efa1d5bacd524978a/immutables-0.15-cp36-cp36m-manylinux1_x86_64.whl (100kB)\n",
            "\u001b[K     |████████████████████████████████| 102kB 9.9MB/s \n",
            "\u001b[?25hRequirement already satisfied: six>=1.5 in /usr/local/lib/python3.6/dist-packages (from python-dateutil>=2.8.0->qiskit-terra==0.16.4->qiskit) (1.15.0)\n",
            "Requirement already satisfied: mpmath>=0.19 in /usr/local/lib/python3.6/dist-packages (from sympy>=1.3->qiskit-terra==0.16.4->qiskit) (1.1.0)\n",
            "Collecting cryptography>=1.3\n",
            "\u001b[?25l  Downloading https://files.pythonhosted.org/packages/f8/1f/acde6ff69864c5e78b56488e3afd93c1ccc8c2651186e2a5f93d93f64859/cryptography-3.4.6-cp36-abi3-manylinux2014_x86_64.whl (3.2MB)\n",
            "\u001b[K     |████████████████████████████████| 3.2MB 44.8MB/s \n",
            "\u001b[?25hCollecting ntlm-auth>=1.0.2\n",
            "  Downloading https://files.pythonhosted.org/packages/ff/84/97c550164b54942b0e908c31ef09d9469f3ba4cd7332a671e2125732f63b/ntlm_auth-1.5.0-py2.py3-none-any.whl\n",
            "Requirement already satisfied: certifi>=2017.4.17 in /usr/local/lib/python3.6/dist-packages (from requests>=2.19->qiskit-ibmq-provider==0.11.1->qiskit) (2020.12.5)\n",
            "Requirement already satisfied: chardet<4,>=3.0.2 in /usr/local/lib/python3.6/dist-packages (from requests>=2.19->qiskit-ibmq-provider==0.11.1->qiskit) (3.0.4)\n",
            "Requirement already satisfied: idna<3,>=2.5 in /usr/local/lib/python3.6/dist-packages (from requests>=2.19->qiskit-ibmq-provider==0.11.1->qiskit) (2.10)\n",
            "Requirement already satisfied: joblib>=0.11 in /usr/local/lib/python3.6/dist-packages (from scikit-learn>=0.17->qiskit-ignis==0.5.2->qiskit) (1.0.0)\n",
            "Collecting inflection>=0.3.1\n",
            "  Downloading https://files.pythonhosted.org/packages/59/91/aa6bde563e0085a02a435aa99b49ef75b0a4b062635e606dab23ce18d720/inflection-0.5.1-py2.py3-none-any.whl\n",
            "Requirement already satisfied: more-itertools in /usr/local/lib/python3.6/dist-packages (from quandl->qiskit-aqua==0.8.2->qiskit) (8.7.0)\n",
            "Requirement already satisfied: multitasking>=0.0.7 in /usr/local/lib/python3.6/dist-packages (from yfinance->qiskit-aqua==0.8.2->qiskit) (0.0.9)\n",
            "Collecting lxml>=4.5.1\n",
            "\u001b[?25l  Downloading https://files.pythonhosted.org/packages/bd/78/56a7c88a57d0d14945472535d0df9fb4bbad7d34ede658ec7961635c790e/lxml-4.6.2-cp36-cp36m-manylinux1_x86_64.whl (5.5MB)\n",
            "\u001b[K     |████████████████████████████████| 5.5MB 28.7MB/s \n",
            "\u001b[?25hRequirement already satisfied: pytz>=2017.2 in /usr/local/lib/python3.6/dist-packages (from pandas->qiskit-aqua==0.8.2->qiskit) (2018.9)\n",
            "Requirement already satisfied: cffi>=1.12 in /usr/local/lib/python3.6/dist-packages (from cryptography>=1.3->requests-ntlm>=1.1.0->qiskit-ibmq-provider==0.11.1->qiskit) (1.14.4)\n",
            "Requirement already satisfied: pycparser in /usr/local/lib/python3.6/dist-packages (from cffi>=1.12->cryptography>=1.3->requests-ntlm>=1.1.0->qiskit-ibmq-provider==0.11.1->qiskit) (2.20)\n",
            "Building wheels for collected packages: qiskit, python-constraint, contextvars, docplex, dlx, yfinance\n",
            "  Building wheel for qiskit (setup.py) ... \u001b[?25l\u001b[?25hdone\n",
            "  Created wheel for qiskit: filename=qiskit-0.23.6-cp36-none-any.whl size=2883 sha256=28db428d3f82101995b1d5390d07204b6e1a35952bdf25e637edda756cbca005\n",
            "  Stored in directory: /root/.cache/pip/wheels/b1/5e/2a/a9afb84cb4e8a08ea994982aaf040b2c668ef5fee81430f1f5\n",
            "  Building wheel for python-constraint (setup.py) ... \u001b[?25l\u001b[?25hdone\n",
            "  Created wheel for python-constraint: filename=python_constraint-1.4.0-py2.py3-none-any.whl size=24079 sha256=6f45b4e3316774aebe3bc74c960684f9193caadac0c8fe0771e65ad795bc6547\n",
            "  Stored in directory: /root/.cache/pip/wheels/34/31/15/7b070b25d0a549d20ce2e9fe6d727471c2c61ef904720fd40c\n",
            "  Building wheel for contextvars (setup.py) ... \u001b[?25l\u001b[?25hdone\n",
            "  Created wheel for contextvars: filename=contextvars-2.4-cp36-none-any.whl size=7667 sha256=1ccbc4a4145c9d93853cbb98c0b6b1e4eaaecaa7edcfc8f9bd162d7bc2ac0f1b\n",
            "  Stored in directory: /root/.cache/pip/wheels/a5/7d/68/1ebae2668bda2228686e3c1cf16f2c2384cea6e9334ad5f6de\n",
            "  Building wheel for docplex (setup.py) ... \u001b[?25l\u001b[?25hdone\n",
            "  Created wheel for docplex: filename=docplex-2.15.194-cp36-none-any.whl size=645116 sha256=34c7db7382bb77a2d090c67bc1996219331605b293ae0d0704231845c3cf65db\n",
            "  Stored in directory: /root/.cache/pip/wheels/ce/fa/5d/8f4d5fed1b8edb72e453cb2ac6fb75c6776b49d7174eb70457\n",
            "  Building wheel for dlx (setup.py) ... \u001b[?25l\u001b[?25hdone\n",
            "  Created wheel for dlx: filename=dlx-1.0.4-cp36-none-any.whl size=5711 sha256=57757a4a96483bd47105b4da507f47f4de5f75a0fbf8961838d1ded5d8e99eec\n",
            "  Stored in directory: /root/.cache/pip/wheels/bb/ba/15/fdd0deb104df3254912998150ba9245668db06b00af5912d1a\n",
            "  Building wheel for yfinance (setup.py) ... \u001b[?25l\u001b[?25hdone\n",
            "  Created wheel for yfinance: filename=yfinance-0.1.55-py2.py3-none-any.whl size=22616 sha256=3e317ca9f93daad642004783abc38e3ae797051c3bf0e47b16ddcecf273cd6e5\n",
            "  Stored in directory: /root/.cache/pip/wheels/04/98/cc/2702a4242d60bdc14f48b4557c427ded1fe92aedf257d4565c\n",
            "Successfully built qiskit python-constraint contextvars docplex dlx yfinance\n",
            "Installing collected packages: python-constraint, immutables, contextvars, fastjsonschema, retworkx, ply, sympy, qiskit-terra, pybind11, qiskit-aer, cryptography, ntlm-auth, requests-ntlm, websockets, qiskit-ibmq-provider, qiskit-ignis, docplex, dlx, inflection, quandl, lxml, yfinance, qiskit-aqua, qiskit\n",
            "  Found existing installation: sympy 1.1.1\n",
            "    Uninstalling sympy-1.1.1:\n",
            "      Successfully uninstalled sympy-1.1.1\n",
            "  Found existing installation: lxml 4.2.6\n",
            "    Uninstalling lxml-4.2.6:\n",
            "      Successfully uninstalled lxml-4.2.6\n",
            "Successfully installed contextvars-2.4 cryptography-3.4.6 dlx-1.0.4 docplex-2.15.194 fastjsonschema-2.15.0 immutables-0.15 inflection-0.5.1 lxml-4.6.2 ntlm-auth-1.5.0 ply-3.11 pybind11-2.6.2 python-constraint-1.4.0 qiskit-0.23.6 qiskit-aer-0.7.5 qiskit-aqua-0.8.2 qiskit-ibmq-provider-0.11.1 qiskit-ignis-0.5.2 qiskit-terra-0.16.4 quandl-3.6.0 requests-ntlm-1.1.0 retworkx-0.7.2 sympy-1.7.1 websockets-8.1 yfinance-0.1.55\n"
          ],
          "name": "stdout"
        }
      ]
    },
    {
      "cell_type": "code",
      "metadata": {
        "colab": {
          "base_uri": "https://localhost:8080/"
        },
        "id": "1LvLio-LDGUF",
        "outputId": "a49bb413-6230-45e6-859a-94b2e3cd8bbe"
      },
      "source": [
        "!pip install pylatexenc"
      ],
      "execution_count": 25,
      "outputs": [
        {
          "output_type": "stream",
          "text": [
            "Requirement already satisfied: pylatexenc in /usr/local/lib/python3.6/dist-packages (2.8)\n"
          ],
          "name": "stdout"
        }
      ]
    },
    {
      "cell_type": "markdown",
      "metadata": {
        "id": "x-gLFbdz6zAK"
      },
      "source": [
        "## **Task:1- SWAP Test**"
      ]
    },
    {
      "cell_type": "code",
      "metadata": {
        "id": "tyoDgSvp8POV"
      },
      "source": [
        "from qiskit import AncillaRegister,QuantumRegister, ClassicalRegister, QuantumCircuit, execute, Aer"
      ],
      "execution_count": 3,
      "outputs": []
    },
    {
      "cell_type": "code",
      "metadata": {
        "colab": {
          "base_uri": "https://localhost:8080/",
          "height": 140
        },
        "id": "DWzpc_co1htp",
        "outputId": "a715876e-f85f-44d2-e9c7-9c1a6e1e2b13"
      },
      "source": [
        "q= QuantumRegister(2)\r\n",
        "c= ClassicalRegister(2)\r\n",
        "qc= QuantumCircuit(q,c)\r\n",
        "\r\n",
        "#q= [0,1] \r\n",
        "qc.h(q[1])\r\n",
        "qc.cnot(q[0],q[1])\r\n",
        "qc.cnot(q[1],q[0])\r\n",
        "qc.cnot(q[0],q[1])\r\n",
        "job = execute(qc,Aer.get_backend('qasm_simulator'),shots=1024)\r\n",
        "\r\n",
        "counts = job.result().get_counts(qc)\r\n",
        "print(counts)\r\n",
        "qc.measure(q,c)\r\n",
        "\r\n",
        "qc.draw()"
      ],
      "execution_count": 31,
      "outputs": [
        {
          "output_type": "stream",
          "text": [
            "{'00': 1024}\n"
          ],
          "name": "stdout"
        },
        {
          "output_type": "execute_result",
          "data": {
            "text/html": [
              "<pre style=\"word-wrap: normal;white-space: pre;background: #fff0;line-height: 1.1;font-family: &quot;Courier New&quot;,Courier,monospace\">                 ┌───┐     ┌─┐   \n",
              "q36_0: ───────■──┤ X ├──■──┤M├───\n",
              "       ┌───┐┌─┴─┐└─┬─┘┌─┴─┐└╥┘┌─┐\n",
              "q36_1: ┤ H ├┤ X ├──■──┤ X ├─╫─┤M├\n",
              "       └───┘└───┘     └───┘ ║ └╥┘\n",
              "c12: 2/═════════════════════╩══╩═\n",
              "                            0  1 </pre>"
            ],
            "text/plain": [
              "                 ┌───┐     ┌─┐   \n",
              "q36_0: ───────■──┤ X ├──■──┤M├───\n",
              "       ┌───┐┌─┴─┐└─┬─┘┌─┴─┐└╥┘┌─┐\n",
              "q36_1: ┤ H ├┤ X ├──■──┤ X ├─╫─┤M├\n",
              "       └───┘└───┘     └───┘ ║ └╥┘\n",
              "c12: 2/═════════════════════╩══╩═\n",
              "                            0  1 "
            ]
          },
          "metadata": {
            "tags": []
          },
          "execution_count": 31
        }
      ]
    },
    {
      "cell_type": "code",
      "metadata": {
        "colab": {
          "base_uri": "https://localhost:8080/",
          "height": 123
        },
        "id": "aDk64rN56MzS",
        "outputId": "88ff5888-8473-4dbe-c347-8825c59cbfea"
      },
      "source": [
        "from qiskit import QuantumRegister, ClassicalRegister, QuantumCircuit\r\n",
        "from numpy import pi\r\n",
        "\r\n",
        "qreg = QuantumRegister(2, 'q')\r\n",
        "creg = ClassicalRegister(2, 'c')\r\n",
        "qc1 = QuantumCircuit(qreg, creg_c)\r\n",
        "\r\n",
        "qc1.x(qreg[0])\r\n",
        "\r\n",
        "qc1.swap(qreg[0], qreg[1])\r\n",
        "qc1.measure(qreg[0], creg[0])\r\n",
        "qc1.measure(qreg[1], creg[1])\r\n",
        "qc1.draw()"
      ],
      "execution_count": 15,
      "outputs": [
        {
          "output_type": "execute_result",
          "data": {
            "text/html": [
              "<pre style=\"word-wrap: normal;white-space: pre;background: #fff0;line-height: 1.1;font-family: &quot;Courier New&quot;,Courier,monospace\">     ┌───┐   ┌─┐   \n",
              "q_0: ┤ X ├─X─┤M├───\n",
              "     └───┘ │ └╥┘┌─┐\n",
              "q_1: ──────X──╫─┤M├\n",
              "              ║ └╥┘\n",
              "c: 2/═════════╩══╩═\n",
              "              0  1 </pre>"
            ],
            "text/plain": [
              "     ┌───┐   ┌─┐   \n",
              "q_0: ┤ X ├─X─┤M├───\n",
              "     └───┘ │ └╥┘┌─┐\n",
              "q_1: ──────X──╫─┤M├\n",
              "              ║ └╥┘\n",
              "c: 2/═════════╩══╩═\n",
              "              0  1 "
            ]
          },
          "metadata": {
            "tags": []
          },
          "execution_count": 15
        }
      ]
    },
    {
      "cell_type": "code",
      "metadata": {
        "colab": {
          "base_uri": "https://localhost:8080/",
          "height": 444
        },
        "id": "jZg_aD8CDboX",
        "outputId": "ae98c7fa-2e19-4bc9-9904-48301e4eacba"
      },
      "source": [
        "si= QuantumRegister(1,'si')\r\n",
        "phi= QuantumRegister(1,'phi')\r\n",
        "a = AncillaRegister(1,'ancilla')\r\n",
        "qc= QuantumCircuit(si,phi,a)\r\n",
        "\r\n",
        "P= 5  #representing the number of times the algorithm will be executed\r\n",
        "n= [si,phi]\r\n",
        "print(n)\r\n",
        "for j in range(1,P):\r\n",
        "  qc.h(a[0])       #Apply a Hadamard gate to the ancilla qubit\r\n",
        "  #iterating over each pair of qubits in the two registers\r\n",
        "  for i in range(1,P):\r\n",
        "    qc.cswap(si[0],phi[0],a[0])\r\n",
        "    qc.h(a[0])       #Apply a Hadamard gate to the ancilla qubit\r\n",
        "\r\n",
        "qc.measure_all()\r\n",
        "qc.draw()"
      ],
      "execution_count": 27,
      "outputs": [
        {
          "output_type": "stream",
          "text": [
            "[QuantumRegister(1, 'si'), QuantumRegister(1, 'phi')]\n"
          ],
          "name": "stdout"
        },
        {
          "output_type": "execute_result",
          "data": {
            "text/html": [
              "<pre style=\"word-wrap: normal;white-space: pre;background: #fff0;line-height: 1.1;font-family: &quot;Courier New&quot;,Courier,monospace\">                                                                             »\n",
              "     si_0: ──────■───────■───────■───────■────────────■───────■───────■──────»\n",
              "                 │       │       │       │            │       │       │      »\n",
              "    phi_0: ──────X───────X───────X───────X────────────X───────X───────X──────»\n",
              "           ┌───┐ │ ┌───┐ │ ┌───┐ │ ┌───┐ │ ┌───┐┌───┐ │ ┌───┐ │ ┌───┐ │ ┌───┐»\n",
              "ancilla_0: ┤ H ├─X─┤ H ├─X─┤ H ├─X─┤ H ├─X─┤ H ├┤ H ├─X─┤ H ├─X─┤ H ├─X─┤ H ├»\n",
              "           └───┘   └───┘   └───┘   └───┘   └───┘└───┘   └───┘   └───┘   └───┘»\n",
              "   meas: 3/══════════════════════════════════════════════════════════════════»\n",
              "                                                                             »\n",
              "«                                                                             »\n",
              "«     si_0: ─■────────────■───────■───────■───────■────────────■───────■──────»\n",
              "«            │            │       │       │       │            │       │      »\n",
              "«    phi_0: ─X────────────X───────X───────X───────X────────────X───────X──────»\n",
              "«            │ ┌───┐┌───┐ │ ┌───┐ │ ┌───┐ │ ┌───┐ │ ┌───┐┌───┐ │ ┌───┐ │ ┌───┐»\n",
              "«ancilla_0: ─X─┤ H ├┤ H ├─X─┤ H ├─X─┤ H ├─X─┤ H ├─X─┤ H ├┤ H ├─X─┤ H ├─X─┤ H ├»\n",
              "«              └───┘└───┘   └───┘   └───┘   └───┘   └───┘└───┘   └───┘   └───┘»\n",
              "«   meas: 3/══════════════════════════════════════════════════════════════════»\n",
              "«                                                                             »\n",
              "«                            ░ ┌─┐      \n",
              "«     si_0: ─■───────■───────░─┤M├──────\n",
              "«            │       │       ░ └╥┘┌─┐   \n",
              "«    phi_0: ─X───────X───────░──╫─┤M├───\n",
              "«            │ ┌───┐ │ ┌───┐ ░  ║ └╥┘┌─┐\n",
              "«ancilla_0: ─X─┤ H ├─X─┤ H ├─░──╫──╫─┤M├\n",
              "«              └───┘   └───┘ ░  ║  ║ └╥┘\n",
              "«   meas: 3/════════════════════╩══╩══╩═\n",
              "«                               0  1  2 </pre>"
            ],
            "text/plain": [
              "                                                                             »\n",
              "     si_0: ──────■───────■───────■───────■────────────■───────■───────■──────»\n",
              "                 │       │       │       │            │       │       │      »\n",
              "    phi_0: ──────X───────X───────X───────X────────────X───────X───────X──────»\n",
              "           ┌───┐ │ ┌───┐ │ ┌───┐ │ ┌───┐ │ ┌───┐┌───┐ │ ┌───┐ │ ┌───┐ │ ┌───┐»\n",
              "ancilla_0: ┤ H ├─X─┤ H ├─X─┤ H ├─X─┤ H ├─X─┤ H ├┤ H ├─X─┤ H ├─X─┤ H ├─X─┤ H ├»\n",
              "           └───┘   └───┘   └───┘   └───┘   └───┘└───┘   └───┘   └───┘   └───┘»\n",
              "   meas: 3/══════════════════════════════════════════════════════════════════»\n",
              "                                                                             »\n",
              "«                                                                             »\n",
              "«     si_0: ─■────────────■───────■───────■───────■────────────■───────■──────»\n",
              "«            │            │       │       │       │            │       │      »\n",
              "«    phi_0: ─X────────────X───────X───────X───────X────────────X───────X──────»\n",
              "«            │ ┌───┐┌───┐ │ ┌───┐ │ ┌───┐ │ ┌───┐ │ ┌───┐┌───┐ │ ┌───┐ │ ┌───┐»\n",
              "«ancilla_0: ─X─┤ H ├┤ H ├─X─┤ H ├─X─┤ H ├─X─┤ H ├─X─┤ H ├┤ H ├─X─┤ H ├─X─┤ H ├»\n",
              "«              └───┘└───┘   └───┘   └───┘   └───┘   └───┘└───┘   └───┘   └───┘»\n",
              "«   meas: 3/══════════════════════════════════════════════════════════════════»\n",
              "«                                                                             »\n",
              "«                            ░ ┌─┐      \n",
              "«     si_0: ─■───────■───────░─┤M├──────\n",
              "«            │       │       ░ └╥┘┌─┐   \n",
              "«    phi_0: ─X───────X───────░──╫─┤M├───\n",
              "«            │ ┌───┐ │ ┌───┐ ░  ║ └╥┘┌─┐\n",
              "«ancilla_0: ─X─┤ H ├─X─┤ H ├─░──╫──╫─┤M├\n",
              "«              └───┘   └───┘ ░  ║  ║ └╥┘\n",
              "«   meas: 3/════════════════════╩══╩══╩═\n",
              "«                               0  1  2 "
            ]
          },
          "metadata": {
            "tags": []
          },
          "execution_count": 27
        }
      ]
    },
    {
      "cell_type": "markdown",
      "metadata": {
        "id": "ne7gBOCs66r6"
      },
      "source": [
        "# **Task:2-Bit-flip code and the sign-flip code**"
      ]
    },
    {
      "cell_type": "code",
      "metadata": {
        "colab": {
          "base_uri": "https://localhost:8080/",
          "height": 123
        },
        "id": "N15-qI7065nG",
        "outputId": "464c0339-93b5-42fc-b19c-fb516011f280"
      },
      "source": [
        "from qiskit import QuantumRegister, ClassicalRegister, QuantumCircuit\r\n",
        "from numpy import pi\r\n",
        "\r\n",
        "qreg_q = QuantumRegister(2, 'q')\r\n",
        "creg_c = ClassicalRegister(2, 'c')\r\n",
        "qc2 = QuantumCircuit(qreg_q, creg_c)\r\n",
        "\r\n",
        "qc2.reset(qreg_q[0])\r\n",
        "qc2.reset(qreg_q[1])\r\n",
        "qc2.h(qreg_q[0])\r\n",
        "qc2.cx(qreg_q[0], qreg_q[1])\r\n",
        "qc2.z(qreg_q[0])\r\n",
        "qc2.measure(qreg_q[0], creg_c[0])\r\n",
        "qc2.measure(qreg_q[1], creg_c[1])\r\n",
        "qc2.draw()"
      ],
      "execution_count": 29,
      "outputs": [
        {
          "output_type": "execute_result",
          "data": {
            "text/html": [
              "<pre style=\"word-wrap: normal;white-space: pre;background: #fff0;line-height: 1.1;font-family: &quot;Courier New&quot;,Courier,monospace\">          ┌───┐     ┌───┐┌─┐\n",
              "q_0: ─|0>─┤ H ├──■──┤ Z ├┤M├\n",
              "          └───┘┌─┴─┐└┬─┬┘└╥┘\n",
              "q_1: ─|0>──────┤ X ├─┤M├──╫─\n",
              "               └───┘ └╥┘  ║ \n",
              "c: 2/═════════════════╩═══╩═\n",
              "                      1   0 </pre>"
            ],
            "text/plain": [
              "          ┌───┐     ┌───┐┌─┐\n",
              "q_0: ─|0>─┤ H ├──■──┤ Z ├┤M├\n",
              "          └───┘┌─┴─┐└┬─┬┘└╥┘\n",
              "q_1: ─|0>──────┤ X ├─┤M├──╫─\n",
              "               └───┘ └╥┘  ║ \n",
              "c: 2/═════════════════╩═══╩═\n",
              "                      1   0 "
            ]
          },
          "metadata": {
            "tags": []
          },
          "execution_count": 29
        }
      ]
    },
    {
      "cell_type": "code",
      "metadata": {
        "id": "4Ov_4Fye-YjU"
      },
      "source": [
        ""
      ],
      "execution_count": null,
      "outputs": []
    }
  ]
}